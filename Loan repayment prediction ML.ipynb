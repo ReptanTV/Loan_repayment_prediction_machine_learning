{
 "cells": [
  {
   "cell_type": "markdown",
   "id": "b2016b3f",
   "metadata": {},
   "source": [
    "# Loan repayment prediction machine learning project"
   ]
  },
  {
   "cell_type": "code",
   "execution_count": 58,
   "id": "101b8755",
   "metadata": {},
   "outputs": [],
   "source": [
    "#importing all the required libraries\n",
    "import pandas as pd\n",
    "import numpy as np\n",
    "import seaborn as sns\n",
    "import matplotlib.pyplot as plt\n",
    "from sklearn.model_selection  import permutation_test_score , train_test_split\n",
    "from sklearn.metrics import accuracy_score , confusion_matrix\n",
    "from sklearn.ensemble import RandomForestClassifier\n",
    "from sklearn.preprocessing import LabelEncoder\n",
    "from sklearn.tree import DecisionTreeClassifier\n",
    "from sklearn.model_selection import StratifiedKFold\n",
    "kFold = StratifiedKFold(n_splits=5)\n",
    "from sklearn.model_selection import GridSearchCV"
   ]
  },
  {
   "cell_type": "markdown",
   "id": "fc401372",
   "metadata": {},
   "source": [
    "Importing the dataset"
   ]
  },
  {
   "cell_type": "code",
   "execution_count": 2,
   "id": "e572af4a",
   "metadata": {
    "scrolled": true
   },
   "outputs": [
    {
     "data": {
      "text/html": [
       "<div>\n",
       "<style scoped>\n",
       "    .dataframe tbody tr th:only-of-type {\n",
       "        vertical-align: middle;\n",
       "    }\n",
       "\n",
       "    .dataframe tbody tr th {\n",
       "        vertical-align: top;\n",
       "    }\n",
       "\n",
       "    .dataframe thead th {\n",
       "        text-align: right;\n",
       "    }\n",
       "</style>\n",
       "<table border=\"1\" class=\"dataframe\">\n",
       "  <thead>\n",
       "    <tr style=\"text-align: right;\">\n",
       "      <th></th>\n",
       "      <th>credit.policy</th>\n",
       "      <th>purpose</th>\n",
       "      <th>int.rate</th>\n",
       "      <th>installment</th>\n",
       "      <th>log.annual.inc</th>\n",
       "      <th>dti</th>\n",
       "      <th>fico</th>\n",
       "      <th>days.with.cr.line</th>\n",
       "      <th>revol.bal</th>\n",
       "      <th>revol.util</th>\n",
       "      <th>inq.last.6mths</th>\n",
       "      <th>delinq.2yrs</th>\n",
       "      <th>pub.rec</th>\n",
       "      <th>not.fully.paid</th>\n",
       "    </tr>\n",
       "  </thead>\n",
       "  <tbody>\n",
       "    <tr>\n",
       "      <th>0</th>\n",
       "      <td>1</td>\n",
       "      <td>debt_consolidation</td>\n",
       "      <td>0.1189</td>\n",
       "      <td>829.10</td>\n",
       "      <td>1.135.040.654</td>\n",
       "      <td>19.48</td>\n",
       "      <td>737</td>\n",
       "      <td>5.639.958.333</td>\n",
       "      <td>28854</td>\n",
       "      <td>52.1</td>\n",
       "      <td>0</td>\n",
       "      <td>0</td>\n",
       "      <td>0</td>\n",
       "      <td>0</td>\n",
       "    </tr>\n",
       "    <tr>\n",
       "      <th>1</th>\n",
       "      <td>1</td>\n",
       "      <td>credit_card</td>\n",
       "      <td>0.1071</td>\n",
       "      <td>228.22</td>\n",
       "      <td>1.108.214.255</td>\n",
       "      <td>14.29</td>\n",
       "      <td>707</td>\n",
       "      <td>2760</td>\n",
       "      <td>33623</td>\n",
       "      <td>76.7</td>\n",
       "      <td>0</td>\n",
       "      <td>0</td>\n",
       "      <td>0</td>\n",
       "      <td>0</td>\n",
       "    </tr>\n",
       "    <tr>\n",
       "      <th>2</th>\n",
       "      <td>1</td>\n",
       "      <td>debt_consolidation</td>\n",
       "      <td>0.1357</td>\n",
       "      <td>366.86</td>\n",
       "      <td>1.037.349.118</td>\n",
       "      <td>11.63</td>\n",
       "      <td>682</td>\n",
       "      <td>4710</td>\n",
       "      <td>3511</td>\n",
       "      <td>25.6</td>\n",
       "      <td>1</td>\n",
       "      <td>0</td>\n",
       "      <td>0</td>\n",
       "      <td>0</td>\n",
       "    </tr>\n",
       "    <tr>\n",
       "      <th>3</th>\n",
       "      <td>1</td>\n",
       "      <td>debt_consolidation</td>\n",
       "      <td>0.1008</td>\n",
       "      <td>162.34</td>\n",
       "      <td>1.135.040.654</td>\n",
       "      <td>8.10</td>\n",
       "      <td>712</td>\n",
       "      <td>2.699.958.333</td>\n",
       "      <td>33667</td>\n",
       "      <td>73.2</td>\n",
       "      <td>1</td>\n",
       "      <td>0</td>\n",
       "      <td>0</td>\n",
       "      <td>0</td>\n",
       "    </tr>\n",
       "    <tr>\n",
       "      <th>4</th>\n",
       "      <td>1</td>\n",
       "      <td>credit_card</td>\n",
       "      <td>0.1426</td>\n",
       "      <td>102.92</td>\n",
       "      <td>1.129.973.224</td>\n",
       "      <td>14.97</td>\n",
       "      <td>667</td>\n",
       "      <td>4066</td>\n",
       "      <td>4740</td>\n",
       "      <td>39.5</td>\n",
       "      <td>0</td>\n",
       "      <td>1</td>\n",
       "      <td>0</td>\n",
       "      <td>0</td>\n",
       "    </tr>\n",
       "    <tr>\n",
       "      <th>5</th>\n",
       "      <td>1</td>\n",
       "      <td>credit_card</td>\n",
       "      <td>0.0788</td>\n",
       "      <td>125.13</td>\n",
       "      <td>1.190.496.755</td>\n",
       "      <td>16.98</td>\n",
       "      <td>727</td>\n",
       "      <td>6.120.041.667</td>\n",
       "      <td>50807</td>\n",
       "      <td>51.0</td>\n",
       "      <td>0</td>\n",
       "      <td>0</td>\n",
       "      <td>0</td>\n",
       "      <td>0</td>\n",
       "    </tr>\n",
       "    <tr>\n",
       "      <th>6</th>\n",
       "      <td>1</td>\n",
       "      <td>debt_consolidation</td>\n",
       "      <td>0.1496</td>\n",
       "      <td>194.02</td>\n",
       "      <td>1.071.441.777</td>\n",
       "      <td>4.00</td>\n",
       "      <td>667</td>\n",
       "      <td>3.180.041.667</td>\n",
       "      <td>3839</td>\n",
       "      <td>76.8</td>\n",
       "      <td>0</td>\n",
       "      <td>0</td>\n",
       "      <td>1</td>\n",
       "      <td>1</td>\n",
       "    </tr>\n",
       "    <tr>\n",
       "      <th>7</th>\n",
       "      <td>1</td>\n",
       "      <td>all_other</td>\n",
       "      <td>0.1114</td>\n",
       "      <td>131.22</td>\n",
       "      <td>1.100.209.984</td>\n",
       "      <td>11.08</td>\n",
       "      <td>722</td>\n",
       "      <td>5116</td>\n",
       "      <td>24220</td>\n",
       "      <td>68.6</td>\n",
       "      <td>0</td>\n",
       "      <td>0</td>\n",
       "      <td>0</td>\n",
       "      <td>1</td>\n",
       "    </tr>\n",
       "    <tr>\n",
       "      <th>8</th>\n",
       "      <td>1</td>\n",
       "      <td>home_improvement</td>\n",
       "      <td>0.1134</td>\n",
       "      <td>87.19</td>\n",
       "      <td>1.140.756.495</td>\n",
       "      <td>17.25</td>\n",
       "      <td>682</td>\n",
       "      <td>3989</td>\n",
       "      <td>69909</td>\n",
       "      <td>51.1</td>\n",
       "      <td>1</td>\n",
       "      <td>0</td>\n",
       "      <td>0</td>\n",
       "      <td>0</td>\n",
       "    </tr>\n",
       "    <tr>\n",
       "      <th>9</th>\n",
       "      <td>1</td>\n",
       "      <td>debt_consolidation</td>\n",
       "      <td>0.1221</td>\n",
       "      <td>84.12</td>\n",
       "      <td>1.020.359.214</td>\n",
       "      <td>10.00</td>\n",
       "      <td>707</td>\n",
       "      <td>2.730.041.667</td>\n",
       "      <td>5630</td>\n",
       "      <td>23.0</td>\n",
       "      <td>1</td>\n",
       "      <td>0</td>\n",
       "      <td>0</td>\n",
       "      <td>0</td>\n",
       "    </tr>\n",
       "  </tbody>\n",
       "</table>\n",
       "</div>"
      ],
      "text/plain": [
       "   credit.policy             purpose  int.rate  installment log.annual.inc  \\\n",
       "0              1  debt_consolidation    0.1189       829.10  1.135.040.654   \n",
       "1              1         credit_card    0.1071       228.22  1.108.214.255   \n",
       "2              1  debt_consolidation    0.1357       366.86  1.037.349.118   \n",
       "3              1  debt_consolidation    0.1008       162.34  1.135.040.654   \n",
       "4              1         credit_card    0.1426       102.92  1.129.973.224   \n",
       "5              1         credit_card    0.0788       125.13  1.190.496.755   \n",
       "6              1  debt_consolidation    0.1496       194.02  1.071.441.777   \n",
       "7              1           all_other    0.1114       131.22  1.100.209.984   \n",
       "8              1    home_improvement    0.1134        87.19  1.140.756.495   \n",
       "9              1  debt_consolidation    0.1221        84.12  1.020.359.214   \n",
       "\n",
       "     dti  fico days.with.cr.line  revol.bal  revol.util  inq.last.6mths  \\\n",
       "0  19.48   737     5.639.958.333      28854        52.1               0   \n",
       "1  14.29   707              2760      33623        76.7               0   \n",
       "2  11.63   682              4710       3511        25.6               1   \n",
       "3   8.10   712     2.699.958.333      33667        73.2               1   \n",
       "4  14.97   667              4066       4740        39.5               0   \n",
       "5  16.98   727     6.120.041.667      50807        51.0               0   \n",
       "6   4.00   667     3.180.041.667       3839        76.8               0   \n",
       "7  11.08   722              5116      24220        68.6               0   \n",
       "8  17.25   682              3989      69909        51.1               1   \n",
       "9  10.00   707     2.730.041.667       5630        23.0               1   \n",
       "\n",
       "   delinq.2yrs  pub.rec  not.fully.paid  \n",
       "0            0        0               0  \n",
       "1            0        0               0  \n",
       "2            0        0               0  \n",
       "3            0        0               0  \n",
       "4            1        0               0  \n",
       "5            0        0               0  \n",
       "6            0        1               1  \n",
       "7            0        0               1  \n",
       "8            0        0               0  \n",
       "9            0        0               0  "
      ]
     },
     "execution_count": 2,
     "metadata": {},
     "output_type": "execute_result"
    }
   ],
   "source": [
    "ds = pd.read_csv('C:\\\\Users\\\\sasta\\\\OneDrive\\\\Desktop\\\\ML-DL PROJECTS\\\\Loan_repayment_pred\\\\loan_data.csv' , sep=';')\n",
    "\n",
    "'''\n",
    " here,  on the inital import of data , it was not divided into seperate proper columns hence used the sep method of the pandas\n",
    "class using the appropriate character in order to serepate out the features into proper columns!\n",
    "'''\n",
    "ds.head(10)"
   ]
  },
  {
   "cell_type": "markdown",
   "id": "18e5d0d8",
   "metadata": {},
   "source": [
    "Checking statistical metrics of the dataset"
   ]
  },
  {
   "cell_type": "code",
   "execution_count": 3,
   "id": "e501ef96",
   "metadata": {},
   "outputs": [
    {
     "data": {
      "text/html": [
       "<div>\n",
       "<style scoped>\n",
       "    .dataframe tbody tr th:only-of-type {\n",
       "        vertical-align: middle;\n",
       "    }\n",
       "\n",
       "    .dataframe tbody tr th {\n",
       "        vertical-align: top;\n",
       "    }\n",
       "\n",
       "    .dataframe thead th {\n",
       "        text-align: right;\n",
       "    }\n",
       "</style>\n",
       "<table border=\"1\" class=\"dataframe\">\n",
       "  <thead>\n",
       "    <tr style=\"text-align: right;\">\n",
       "      <th></th>\n",
       "      <th>credit.policy</th>\n",
       "      <th>int.rate</th>\n",
       "      <th>installment</th>\n",
       "      <th>dti</th>\n",
       "      <th>fico</th>\n",
       "      <th>revol.bal</th>\n",
       "      <th>revol.util</th>\n",
       "      <th>inq.last.6mths</th>\n",
       "      <th>delinq.2yrs</th>\n",
       "      <th>pub.rec</th>\n",
       "      <th>not.fully.paid</th>\n",
       "    </tr>\n",
       "  </thead>\n",
       "  <tbody>\n",
       "    <tr>\n",
       "      <th>count</th>\n",
       "      <td>9578.000000</td>\n",
       "      <td>9578.000000</td>\n",
       "      <td>9578.000000</td>\n",
       "      <td>9578.000000</td>\n",
       "      <td>9578.000000</td>\n",
       "      <td>9.578000e+03</td>\n",
       "      <td>9578.000000</td>\n",
       "      <td>9578.000000</td>\n",
       "      <td>9578.000000</td>\n",
       "      <td>9578.000000</td>\n",
       "      <td>9578.000000</td>\n",
       "    </tr>\n",
       "    <tr>\n",
       "      <th>mean</th>\n",
       "      <td>0.804970</td>\n",
       "      <td>0.122640</td>\n",
       "      <td>319.089413</td>\n",
       "      <td>12.606679</td>\n",
       "      <td>710.846314</td>\n",
       "      <td>1.691396e+04</td>\n",
       "      <td>46.799236</td>\n",
       "      <td>1.577469</td>\n",
       "      <td>0.163708</td>\n",
       "      <td>0.062122</td>\n",
       "      <td>0.160054</td>\n",
       "    </tr>\n",
       "    <tr>\n",
       "      <th>std</th>\n",
       "      <td>0.396245</td>\n",
       "      <td>0.026847</td>\n",
       "      <td>207.071301</td>\n",
       "      <td>6.883970</td>\n",
       "      <td>37.970537</td>\n",
       "      <td>3.375619e+04</td>\n",
       "      <td>29.014417</td>\n",
       "      <td>2.200245</td>\n",
       "      <td>0.546215</td>\n",
       "      <td>0.262126</td>\n",
       "      <td>0.366676</td>\n",
       "    </tr>\n",
       "    <tr>\n",
       "      <th>min</th>\n",
       "      <td>0.000000</td>\n",
       "      <td>0.060000</td>\n",
       "      <td>15.670000</td>\n",
       "      <td>0.000000</td>\n",
       "      <td>612.000000</td>\n",
       "      <td>0.000000e+00</td>\n",
       "      <td>0.000000</td>\n",
       "      <td>0.000000</td>\n",
       "      <td>0.000000</td>\n",
       "      <td>0.000000</td>\n",
       "      <td>0.000000</td>\n",
       "    </tr>\n",
       "    <tr>\n",
       "      <th>25%</th>\n",
       "      <td>1.000000</td>\n",
       "      <td>0.103900</td>\n",
       "      <td>163.770000</td>\n",
       "      <td>7.212500</td>\n",
       "      <td>682.000000</td>\n",
       "      <td>3.187000e+03</td>\n",
       "      <td>22.600000</td>\n",
       "      <td>0.000000</td>\n",
       "      <td>0.000000</td>\n",
       "      <td>0.000000</td>\n",
       "      <td>0.000000</td>\n",
       "    </tr>\n",
       "    <tr>\n",
       "      <th>50%</th>\n",
       "      <td>1.000000</td>\n",
       "      <td>0.122100</td>\n",
       "      <td>268.950000</td>\n",
       "      <td>12.665000</td>\n",
       "      <td>707.000000</td>\n",
       "      <td>8.596000e+03</td>\n",
       "      <td>46.300000</td>\n",
       "      <td>1.000000</td>\n",
       "      <td>0.000000</td>\n",
       "      <td>0.000000</td>\n",
       "      <td>0.000000</td>\n",
       "    </tr>\n",
       "    <tr>\n",
       "      <th>75%</th>\n",
       "      <td>1.000000</td>\n",
       "      <td>0.140700</td>\n",
       "      <td>432.762500</td>\n",
       "      <td>17.950000</td>\n",
       "      <td>737.000000</td>\n",
       "      <td>1.824950e+04</td>\n",
       "      <td>70.900000</td>\n",
       "      <td>2.000000</td>\n",
       "      <td>0.000000</td>\n",
       "      <td>0.000000</td>\n",
       "      <td>0.000000</td>\n",
       "    </tr>\n",
       "    <tr>\n",
       "      <th>max</th>\n",
       "      <td>1.000000</td>\n",
       "      <td>0.216400</td>\n",
       "      <td>940.140000</td>\n",
       "      <td>29.960000</td>\n",
       "      <td>827.000000</td>\n",
       "      <td>1.207359e+06</td>\n",
       "      <td>119.000000</td>\n",
       "      <td>33.000000</td>\n",
       "      <td>13.000000</td>\n",
       "      <td>5.000000</td>\n",
       "      <td>1.000000</td>\n",
       "    </tr>\n",
       "  </tbody>\n",
       "</table>\n",
       "</div>"
      ],
      "text/plain": [
       "       credit.policy     int.rate  installment          dti         fico  \\\n",
       "count    9578.000000  9578.000000  9578.000000  9578.000000  9578.000000   \n",
       "mean        0.804970     0.122640   319.089413    12.606679   710.846314   \n",
       "std         0.396245     0.026847   207.071301     6.883970    37.970537   \n",
       "min         0.000000     0.060000    15.670000     0.000000   612.000000   \n",
       "25%         1.000000     0.103900   163.770000     7.212500   682.000000   \n",
       "50%         1.000000     0.122100   268.950000    12.665000   707.000000   \n",
       "75%         1.000000     0.140700   432.762500    17.950000   737.000000   \n",
       "max         1.000000     0.216400   940.140000    29.960000   827.000000   \n",
       "\n",
       "          revol.bal   revol.util  inq.last.6mths  delinq.2yrs      pub.rec  \\\n",
       "count  9.578000e+03  9578.000000     9578.000000  9578.000000  9578.000000   \n",
       "mean   1.691396e+04    46.799236        1.577469     0.163708     0.062122   \n",
       "std    3.375619e+04    29.014417        2.200245     0.546215     0.262126   \n",
       "min    0.000000e+00     0.000000        0.000000     0.000000     0.000000   \n",
       "25%    3.187000e+03    22.600000        0.000000     0.000000     0.000000   \n",
       "50%    8.596000e+03    46.300000        1.000000     0.000000     0.000000   \n",
       "75%    1.824950e+04    70.900000        2.000000     0.000000     0.000000   \n",
       "max    1.207359e+06   119.000000       33.000000    13.000000     5.000000   \n",
       "\n",
       "       not.fully.paid  \n",
       "count     9578.000000  \n",
       "mean         0.160054  \n",
       "std          0.366676  \n",
       "min          0.000000  \n",
       "25%          0.000000  \n",
       "50%          0.000000  \n",
       "75%          0.000000  \n",
       "max          1.000000  "
      ]
     },
     "execution_count": 3,
     "metadata": {},
     "output_type": "execute_result"
    }
   ],
   "source": [
    "ds.describe()"
   ]
  },
  {
   "cell_type": "code",
   "execution_count": 4,
   "id": "e7822099",
   "metadata": {},
   "outputs": [
    {
     "name": "stdout",
     "output_type": "stream",
     "text": [
      "<class 'pandas.core.frame.DataFrame'>\n",
      "RangeIndex: 9578 entries, 0 to 9577\n",
      "Data columns (total 14 columns):\n",
      " #   Column             Non-Null Count  Dtype  \n",
      "---  ------             --------------  -----  \n",
      " 0   credit.policy      9578 non-null   int64  \n",
      " 1   purpose            9578 non-null   object \n",
      " 2   int.rate           9578 non-null   float64\n",
      " 3   installment        9578 non-null   float64\n",
      " 4   log.annual.inc     9578 non-null   object \n",
      " 5   dti                9578 non-null   float64\n",
      " 6   fico               9578 non-null   int64  \n",
      " 7   days.with.cr.line  9578 non-null   object \n",
      " 8   revol.bal          9578 non-null   int64  \n",
      " 9   revol.util         9578 non-null   float64\n",
      " 10  inq.last.6mths     9578 non-null   int64  \n",
      " 11  delinq.2yrs        9578 non-null   int64  \n",
      " 12  pub.rec            9578 non-null   int64  \n",
      " 13  not.fully.paid     9578 non-null   int64  \n",
      "dtypes: float64(4), int64(7), object(3)\n",
      "memory usage: 1.0+ MB\n"
     ]
    }
   ],
   "source": [
    "ds.info()"
   ]
  },
  {
   "cell_type": "markdown",
   "id": "20b8a5f7",
   "metadata": {},
   "source": [
    "Checking for null values:\n",
    "there are none present!"
   ]
  },
  {
   "cell_type": "code",
   "execution_count": 5,
   "id": "bd5deb61",
   "metadata": {},
   "outputs": [
    {
     "data": {
      "text/plain": [
       "0"
      ]
     },
     "execution_count": 5,
     "metadata": {},
     "output_type": "execute_result"
    }
   ],
   "source": [
    "ds.isnull().sum().sum()"
   ]
  },
  {
   "cell_type": "markdown",
   "id": "961befbd",
   "metadata": {},
   "source": [
    "checking for duplicate values: none present"
   ]
  },
  {
   "cell_type": "code",
   "execution_count": 6,
   "id": "27a6621d",
   "metadata": {},
   "outputs": [
    {
     "data": {
      "text/plain": [
       "0"
      ]
     },
     "execution_count": 6,
     "metadata": {},
     "output_type": "execute_result"
    }
   ],
   "source": [
    "ds.duplicated().sum()"
   ]
  },
  {
   "cell_type": "code",
   "execution_count": 8,
   "id": "ee903ac2",
   "metadata": {},
   "outputs": [
    {
     "data": {
      "text/plain": [
       "{'all_other': 2,\n",
       " 'credit_card': 1,\n",
       " 'debt_consolidation': 2,\n",
       " 'educational': 2,\n",
       " 'home_improvement': 1,\n",
       " 'major_purchase': 1,\n",
       " 'small_business': 2}"
      ]
     },
     "execution_count": 8,
     "metadata": {},
     "output_type": "execute_result"
    }
   ],
   "source": [
    "#encoding the 'purpose' feature using the label encoder as it is a categorical feature , here to check what is assigned to which label\n",
    "ds['purpose'] = np.array(ds['purpose'])\n",
    "le= LabelEncoder()\n",
    "le.fit(ds['purpose'])\n",
    "\n",
    "label_encoders = le.transform(ds['purpose'])\n",
    "label_dict = dict(zip(le.classes_, label_encoders))\n",
    "label_dict"
   ]
  },
  {
   "cell_type": "code",
   "execution_count": 9,
   "id": "78beef0d",
   "metadata": {},
   "outputs": [
    {
     "data": {
      "text/html": [
       "<div>\n",
       "<style scoped>\n",
       "    .dataframe tbody tr th:only-of-type {\n",
       "        vertical-align: middle;\n",
       "    }\n",
       "\n",
       "    .dataframe tbody tr th {\n",
       "        vertical-align: top;\n",
       "    }\n",
       "\n",
       "    .dataframe thead th {\n",
       "        text-align: right;\n",
       "    }\n",
       "</style>\n",
       "<table border=\"1\" class=\"dataframe\">\n",
       "  <thead>\n",
       "    <tr style=\"text-align: right;\">\n",
       "      <th></th>\n",
       "      <th>credit.policy</th>\n",
       "      <th>purpose</th>\n",
       "      <th>int.rate</th>\n",
       "      <th>installment</th>\n",
       "      <th>log.annual.inc</th>\n",
       "      <th>dti</th>\n",
       "      <th>fico</th>\n",
       "      <th>days.with.cr.line</th>\n",
       "      <th>revol.bal</th>\n",
       "      <th>revol.util</th>\n",
       "      <th>inq.last.6mths</th>\n",
       "      <th>delinq.2yrs</th>\n",
       "      <th>pub.rec</th>\n",
       "      <th>not.fully.paid</th>\n",
       "    </tr>\n",
       "  </thead>\n",
       "  <tbody>\n",
       "    <tr>\n",
       "      <th>0</th>\n",
       "      <td>1</td>\n",
       "      <td>2</td>\n",
       "      <td>0.1189</td>\n",
       "      <td>829.10</td>\n",
       "      <td>1.135.040.654</td>\n",
       "      <td>19.48</td>\n",
       "      <td>737</td>\n",
       "      <td>5.639.958.333</td>\n",
       "      <td>28854</td>\n",
       "      <td>52.1</td>\n",
       "      <td>0</td>\n",
       "      <td>0</td>\n",
       "      <td>0</td>\n",
       "      <td>0</td>\n",
       "    </tr>\n",
       "    <tr>\n",
       "      <th>1</th>\n",
       "      <td>1</td>\n",
       "      <td>1</td>\n",
       "      <td>0.1071</td>\n",
       "      <td>228.22</td>\n",
       "      <td>1.108.214.255</td>\n",
       "      <td>14.29</td>\n",
       "      <td>707</td>\n",
       "      <td>2760</td>\n",
       "      <td>33623</td>\n",
       "      <td>76.7</td>\n",
       "      <td>0</td>\n",
       "      <td>0</td>\n",
       "      <td>0</td>\n",
       "      <td>0</td>\n",
       "    </tr>\n",
       "    <tr>\n",
       "      <th>2</th>\n",
       "      <td>1</td>\n",
       "      <td>2</td>\n",
       "      <td>0.1357</td>\n",
       "      <td>366.86</td>\n",
       "      <td>1.037.349.118</td>\n",
       "      <td>11.63</td>\n",
       "      <td>682</td>\n",
       "      <td>4710</td>\n",
       "      <td>3511</td>\n",
       "      <td>25.6</td>\n",
       "      <td>1</td>\n",
       "      <td>0</td>\n",
       "      <td>0</td>\n",
       "      <td>0</td>\n",
       "    </tr>\n",
       "    <tr>\n",
       "      <th>3</th>\n",
       "      <td>1</td>\n",
       "      <td>2</td>\n",
       "      <td>0.1008</td>\n",
       "      <td>162.34</td>\n",
       "      <td>1.135.040.654</td>\n",
       "      <td>8.10</td>\n",
       "      <td>712</td>\n",
       "      <td>2.699.958.333</td>\n",
       "      <td>33667</td>\n",
       "      <td>73.2</td>\n",
       "      <td>1</td>\n",
       "      <td>0</td>\n",
       "      <td>0</td>\n",
       "      <td>0</td>\n",
       "    </tr>\n",
       "    <tr>\n",
       "      <th>4</th>\n",
       "      <td>1</td>\n",
       "      <td>1</td>\n",
       "      <td>0.1426</td>\n",
       "      <td>102.92</td>\n",
       "      <td>1.129.973.224</td>\n",
       "      <td>14.97</td>\n",
       "      <td>667</td>\n",
       "      <td>4066</td>\n",
       "      <td>4740</td>\n",
       "      <td>39.5</td>\n",
       "      <td>0</td>\n",
       "      <td>1</td>\n",
       "      <td>0</td>\n",
       "      <td>0</td>\n",
       "    </tr>\n",
       "    <tr>\n",
       "      <th>...</th>\n",
       "      <td>...</td>\n",
       "      <td>...</td>\n",
       "      <td>...</td>\n",
       "      <td>...</td>\n",
       "      <td>...</td>\n",
       "      <td>...</td>\n",
       "      <td>...</td>\n",
       "      <td>...</td>\n",
       "      <td>...</td>\n",
       "      <td>...</td>\n",
       "      <td>...</td>\n",
       "      <td>...</td>\n",
       "      <td>...</td>\n",
       "      <td>...</td>\n",
       "    </tr>\n",
       "    <tr>\n",
       "      <th>9573</th>\n",
       "      <td>0</td>\n",
       "      <td>0</td>\n",
       "      <td>0.1461</td>\n",
       "      <td>344.76</td>\n",
       "      <td>1.218.075.484</td>\n",
       "      <td>10.39</td>\n",
       "      <td>672</td>\n",
       "      <td>10474</td>\n",
       "      <td>215372</td>\n",
       "      <td>82.1</td>\n",
       "      <td>2</td>\n",
       "      <td>0</td>\n",
       "      <td>0</td>\n",
       "      <td>1</td>\n",
       "    </tr>\n",
       "    <tr>\n",
       "      <th>9574</th>\n",
       "      <td>0</td>\n",
       "      <td>0</td>\n",
       "      <td>0.1253</td>\n",
       "      <td>257.70</td>\n",
       "      <td>1.114.186.178</td>\n",
       "      <td>0.21</td>\n",
       "      <td>722</td>\n",
       "      <td>4380</td>\n",
       "      <td>184</td>\n",
       "      <td>1.1</td>\n",
       "      <td>5</td>\n",
       "      <td>0</td>\n",
       "      <td>0</td>\n",
       "      <td>1</td>\n",
       "    </tr>\n",
       "    <tr>\n",
       "      <th>9575</th>\n",
       "      <td>0</td>\n",
       "      <td>2</td>\n",
       "      <td>0.1071</td>\n",
       "      <td>97.81</td>\n",
       "      <td>1.059.663.473</td>\n",
       "      <td>13.09</td>\n",
       "      <td>687</td>\n",
       "      <td>3.450.041.667</td>\n",
       "      <td>10036</td>\n",
       "      <td>82.9</td>\n",
       "      <td>8</td>\n",
       "      <td>0</td>\n",
       "      <td>0</td>\n",
       "      <td>1</td>\n",
       "    </tr>\n",
       "    <tr>\n",
       "      <th>9576</th>\n",
       "      <td>0</td>\n",
       "      <td>4</td>\n",
       "      <td>0.1600</td>\n",
       "      <td>351.58</td>\n",
       "      <td>1.081.977.828</td>\n",
       "      <td>19.18</td>\n",
       "      <td>692</td>\n",
       "      <td>1800</td>\n",
       "      <td>0</td>\n",
       "      <td>3.2</td>\n",
       "      <td>5</td>\n",
       "      <td>0</td>\n",
       "      <td>0</td>\n",
       "      <td>1</td>\n",
       "    </tr>\n",
       "    <tr>\n",
       "      <th>9577</th>\n",
       "      <td>0</td>\n",
       "      <td>2</td>\n",
       "      <td>0.1392</td>\n",
       "      <td>853.43</td>\n",
       "      <td>1.126.446.411</td>\n",
       "      <td>16.28</td>\n",
       "      <td>732</td>\n",
       "      <td>4740</td>\n",
       "      <td>37879</td>\n",
       "      <td>57.0</td>\n",
       "      <td>6</td>\n",
       "      <td>0</td>\n",
       "      <td>0</td>\n",
       "      <td>1</td>\n",
       "    </tr>\n",
       "  </tbody>\n",
       "</table>\n",
       "<p>9578 rows × 14 columns</p>\n",
       "</div>"
      ],
      "text/plain": [
       "      credit.policy  purpose  int.rate  installment log.annual.inc    dti  \\\n",
       "0                 1        2    0.1189       829.10  1.135.040.654  19.48   \n",
       "1                 1        1    0.1071       228.22  1.108.214.255  14.29   \n",
       "2                 1        2    0.1357       366.86  1.037.349.118  11.63   \n",
       "3                 1        2    0.1008       162.34  1.135.040.654   8.10   \n",
       "4                 1        1    0.1426       102.92  1.129.973.224  14.97   \n",
       "...             ...      ...       ...          ...            ...    ...   \n",
       "9573              0        0    0.1461       344.76  1.218.075.484  10.39   \n",
       "9574              0        0    0.1253       257.70  1.114.186.178   0.21   \n",
       "9575              0        2    0.1071        97.81  1.059.663.473  13.09   \n",
       "9576              0        4    0.1600       351.58  1.081.977.828  19.18   \n",
       "9577              0        2    0.1392       853.43  1.126.446.411  16.28   \n",
       "\n",
       "      fico days.with.cr.line  revol.bal  revol.util  inq.last.6mths  \\\n",
       "0      737     5.639.958.333      28854        52.1               0   \n",
       "1      707              2760      33623        76.7               0   \n",
       "2      682              4710       3511        25.6               1   \n",
       "3      712     2.699.958.333      33667        73.2               1   \n",
       "4      667              4066       4740        39.5               0   \n",
       "...    ...               ...        ...         ...             ...   \n",
       "9573   672             10474     215372        82.1               2   \n",
       "9574   722              4380        184         1.1               5   \n",
       "9575   687     3.450.041.667      10036        82.9               8   \n",
       "9576   692              1800          0         3.2               5   \n",
       "9577   732              4740      37879        57.0               6   \n",
       "\n",
       "      delinq.2yrs  pub.rec  not.fully.paid  \n",
       "0               0        0               0  \n",
       "1               0        0               0  \n",
       "2               0        0               0  \n",
       "3               0        0               0  \n",
       "4               1        0               0  \n",
       "...           ...      ...             ...  \n",
       "9573            0        0               1  \n",
       "9574            0        0               1  \n",
       "9575            0        0               1  \n",
       "9576            0        0               1  \n",
       "9577            0        0               1  \n",
       "\n",
       "[9578 rows x 14 columns]"
      ]
     },
     "execution_count": 9,
     "metadata": {},
     "output_type": "execute_result"
    }
   ],
   "source": [
    "ds['purpose'] = le.fit_transform(ds['purpose'])\n",
    "ds"
   ]
  },
  {
   "cell_type": "code",
   "execution_count": 10,
   "id": "815cbe01",
   "metadata": {},
   "outputs": [
    {
     "name": "stdout",
     "output_type": "stream",
     "text": [
      "<class 'pandas.core.frame.DataFrame'>\n",
      "RangeIndex: 9578 entries, 0 to 9577\n",
      "Data columns (total 14 columns):\n",
      " #   Column             Non-Null Count  Dtype  \n",
      "---  ------             --------------  -----  \n",
      " 0   credit.policy      9578 non-null   int64  \n",
      " 1   purpose            9578 non-null   int32  \n",
      " 2   int.rate           9578 non-null   float64\n",
      " 3   installment        9578 non-null   float64\n",
      " 4   log.annual.inc     9578 non-null   object \n",
      " 5   dti                9578 non-null   float64\n",
      " 6   fico               9578 non-null   int64  \n",
      " 7   days.with.cr.line  9578 non-null   object \n",
      " 8   revol.bal          9578 non-null   int64  \n",
      " 9   revol.util         9578 non-null   float64\n",
      " 10  inq.last.6mths     9578 non-null   int64  \n",
      " 11  delinq.2yrs        9578 non-null   int64  \n",
      " 12  pub.rec            9578 non-null   int64  \n",
      " 13  not.fully.paid     9578 non-null   int64  \n",
      "dtypes: float64(4), int32(1), int64(7), object(2)\n",
      "memory usage: 1010.3+ KB\n"
     ]
    }
   ],
   "source": [
    "ds.info()"
   ]
  },
  {
   "cell_type": "code",
   "execution_count": 11,
   "id": "c13c2e2f",
   "metadata": {},
   "outputs": [],
   "source": [
    "ds = ds.drop(['log.annual.inc' , 'days.with.cr.line'] , axis =1)"
   ]
  },
  {
   "cell_type": "code",
   "execution_count": 12,
   "id": "01b299ba",
   "metadata": {},
   "outputs": [
    {
     "name": "stdout",
     "output_type": "stream",
     "text": [
      "<class 'pandas.core.frame.DataFrame'>\n",
      "RangeIndex: 9578 entries, 0 to 9577\n",
      "Data columns (total 12 columns):\n",
      " #   Column          Non-Null Count  Dtype  \n",
      "---  ------          --------------  -----  \n",
      " 0   credit.policy   9578 non-null   int64  \n",
      " 1   purpose         9578 non-null   int32  \n",
      " 2   int.rate        9578 non-null   float64\n",
      " 3   installment     9578 non-null   float64\n",
      " 4   dti             9578 non-null   float64\n",
      " 5   fico            9578 non-null   int64  \n",
      " 6   revol.bal       9578 non-null   int64  \n",
      " 7   revol.util      9578 non-null   float64\n",
      " 8   inq.last.6mths  9578 non-null   int64  \n",
      " 9   delinq.2yrs     9578 non-null   int64  \n",
      " 10  pub.rec         9578 non-null   int64  \n",
      " 11  not.fully.paid  9578 non-null   int64  \n",
      "dtypes: float64(4), int32(1), int64(7)\n",
      "memory usage: 860.6 KB\n"
     ]
    }
   ],
   "source": [
    "ds.info()"
   ]
  },
  {
   "cell_type": "markdown",
   "id": "5bbdc528",
   "metadata": {},
   "source": [
    "# Exploratary data analysis (EDA)"
   ]
  },
  {
   "cell_type": "markdown",
   "id": "2af126ba",
   "metadata": {},
   "source": [
    "Data visualization"
   ]
  },
  {
   "cell_type": "code",
   "execution_count": 13,
   "id": "925e314f",
   "metadata": {},
   "outputs": [],
   "source": [
    "#checking the count of credit policy vs their FICO scores for both candidates i.e meeting the credit policy and not meeting the policy"
   ]
  },
  {
   "cell_type": "code",
   "execution_count": 14,
   "id": "9ead9941",
   "metadata": {},
   "outputs": [
    {
     "data": {
      "text/plain": [
       "Text(0.5, 0, 'FICO')"
      ]
     },
     "execution_count": 14,
     "metadata": {},
     "output_type": "execute_result"
    },
    {
     "data": {
      "image/png": "[encoded data removed]",
      "text/plain": [
       "<Figure size 432x288 with 1 Axes>"
      ]
     },
     "metadata": {},
     "output_type": "display_data"
    }
   ],
   "source": [
    "sns.set_style('darkgrid')\n",
    "plt.hist(ds['fico'].loc[ds['credit.policy']==1],bins = 30 , label = 'credit policy = 1')\n",
    "plt.hist(ds['fico'].loc[ds['credit.policy']==0],bins = 30 , label = 'credit policy = 0')\n",
    "plt.legend()\n",
    "plt.xlabel('FICO')\n"
   ]
  },
  {
   "cell_type": "markdown",
   "id": "460b8568",
   "metadata": {},
   "source": [
    "\n",
    "plotting not fully paid feature vs the FICO score:\n",
    "\n"
   ]
  },
  {
   "cell_type": "code",
   "execution_count": 15,
   "id": "62b498e6",
   "metadata": {},
   "outputs": [
    {
     "data": {
      "text/plain": [
       "Text(0.5, 0, 'FICO')"
      ]
     },
     "execution_count": 15,
     "metadata": {},
     "output_type": "execute_result"
    },
    {
     "data": {
      "image/png": "[encoded data removed]",
      "text/plain": [
       "<Figure size 1080x504 with 1 Axes>"
      ]
     },
     "metadata": {},
     "output_type": "display_data"
    }
   ],
   "source": [
    "plt.figure(figsize=(15,7))\n",
    "plt.hist(ds['fico'].loc[ds['not.fully.paid']==0],bins = 30 , label = 'fully paid',color = 'blue')\n",
    "plt.hist(ds['fico'].loc[ds['not.fully.paid']==1],bins = 30  , label = 'not fully paid',color='red')\n",
    "\n",
    "plt.legend()\n",
    "plt.xlabel('FICO')"
   ]
  },
  {
   "cell_type": "markdown",
   "id": "3b1eec2a",
   "metadata": {},
   "source": [
    "\n",
    "the inference here is that the count of people who have paid back all the loans is comparitively very high than those\n",
    "who have defaulted on the loan repayment\n"
   ]
  },
  {
   "cell_type": "code",
   "execution_count": 16,
   "id": "a652a721",
   "metadata": {},
   "outputs": [
    {
     "data": {
      "text/plain": [
       "<AxesSubplot:xlabel='purpose', ylabel='count'>"
      ]
     },
     "execution_count": 16,
     "metadata": {},
     "output_type": "execute_result"
    },
    {
     "data": {
      "image/png": "[encoded data removed]",
      "text/plain": [
       "<Figure size 864x432 with 1 Axes>"
      ]
     },
     "metadata": {},
     "output_type": "display_data"
    }
   ],
   "source": [
    "#creating a countplot to see the counts of purpose of loans by not.fully.paid\n",
    "plt.figure(figsize=(12,6))\n",
    "sns.countplot(data=ds, x='purpose', hue='not.fully.paid')"
   ]
  },
  {
   "cell_type": "markdown",
   "id": "f903bc0b",
   "metadata": {},
   "source": [
    "# Plotting corelation heatmap to understand the relation between features"
   ]
  },
  {
   "cell_type": "code",
   "execution_count": 17,
   "id": "0c0ba15b",
   "metadata": {},
   "outputs": [
    {
     "name": "stdout",
     "output_type": "stream",
     "text": [
      "      credit.policy  purpose  int.rate  installment    dti  fico  revol.bal  \\\n",
      "0                 1        2    0.1189       829.10  19.48   737      28854   \n",
      "1                 1        1    0.1071       228.22  14.29   707      33623   \n",
      "2                 1        2    0.1357       366.86  11.63   682       3511   \n",
      "3                 1        2    0.1008       162.34   8.10   712      33667   \n",
      "4                 1        1    0.1426       102.92  14.97   667       4740   \n",
      "...             ...      ...       ...          ...    ...   ...        ...   \n",
      "9573              0        0    0.1461       344.76  10.39   672     215372   \n",
      "9574              0        0    0.1253       257.70   0.21   722        184   \n",
      "9575              0        2    0.1071        97.81  13.09   687      10036   \n",
      "9576              0        4    0.1600       351.58  19.18   692          0   \n",
      "9577              0        2    0.1392       853.43  16.28   732      37879   \n",
      "\n",
      "      revol.util  inq.last.6mths  delinq.2yrs  pub.rec  not.fully.paid  \n",
      "0           52.1               0            0        0               0  \n",
      "1           76.7               0            0        0               0  \n",
      "2           25.6               1            0        0               0  \n",
      "3           73.2               1            0        0               0  \n",
      "4           39.5               0            1        0               0  \n",
      "...          ...             ...          ...      ...             ...  \n",
      "9573        82.1               2            0        0               1  \n",
      "9574         1.1               5            0        0               1  \n",
      "9575        82.9               8            0        0               1  \n",
      "9576         3.2               5            0        0               1  \n",
      "9577        57.0               6            0        0               1  \n",
      "\n",
      "[9578 rows x 12 columns]\n"
     ]
    },
    {
     "name": "stderr",
     "output_type": "stream",
     "text": [
      "C:\\Users\\sasta\\AppData\\Local\\Temp\\ipykernel_3012\\96463662.py:2: DeprecationWarning: `np.object` is a deprecated alias for the builtin `object`. To silence this warning, use `object` by itself. Doing this will not modify any behavior and is safe. \n",
      "Deprecated in NumPy 1.20; for more details and guidance: https://numpy.org/devdocs/release/1.20.0-notes.html#deprecations\n",
      "  cate_features = ds.select_dtypes(include=[np.object])\n"
     ]
    }
   ],
   "source": [
    "num_features = ds.select_dtypes(include=[np.number])\n",
    "cate_features = ds.select_dtypes(include=[np.object])\n",
    "print(num_features)"
   ]
  },
  {
   "cell_type": "code",
   "execution_count": 18,
   "id": "d1a04f12",
   "metadata": {},
   "outputs": [
    {
     "name": "stdout",
     "output_type": "stream",
     "text": [
      "not.fully.paid    1.000000\n",
      "int.rate          0.159552\n",
      "inq.last.6mths    0.149452\n",
      "revol.util        0.082088\n",
      "revol.bal         0.053699\n",
      "installment       0.049955\n",
      "pub.rec           0.048634\n",
      "purpose           0.047907\n",
      "dti               0.037362\n",
      "delinq.2yrs       0.008881\n",
      "fico             -0.149666\n",
      "credit.policy    -0.158119\n",
      "Name: not.fully.paid, dtype: float64\n"
     ]
    }
   ],
   "source": [
    "correlation = ds.corr()\n",
    "print(correlation['not.fully.paid'].sort_values(ascending=False))"
   ]
  },
  {
   "cell_type": "code",
   "execution_count": 19,
   "id": "fbf94d5f",
   "metadata": {},
   "outputs": [
    {
     "data": {
      "text/plain": [
       "<AxesSubplot:>"
      ]
     },
     "execution_count": 19,
     "metadata": {},
     "output_type": "execute_result"
    },
    {
     "data": {
      "image/png": "[encoded data removed]",
      "text/plain": [
       "<Figure size 1440x1080 with 2 Axes>"
      ]
     },
     "metadata": {},
     "output_type": "display_data"
    }
   ],
   "source": [
    "plt.figure(figsize=(20,15))\n",
    "sns.heatmap(correlation , cmap='coolwarm',annot=True)\n"
   ]
  },
  {
   "cell_type": "markdown",
   "id": "6c17cced",
   "metadata": {},
   "source": [
    "# Splitting data into train and test sets"
   ]
  },
  {
   "cell_type": "code",
   "execution_count": 41,
   "id": "63b54453",
   "metadata": {},
   "outputs": [],
   "source": [
    "x = ds.iloc[: , :-1].values\n",
    "y = ds.iloc[: , -1].values\n",
    "\n"
   ]
  },
  {
   "cell_type": "code",
   "execution_count": 46,
   "id": "45840b3c",
   "metadata": {},
   "outputs": [],
   "source": [
    "x_train ,x_test , y_train , y_test = train_test_split(x,y , test_size = 0.2)\n"
   ]
  },
  {
   "cell_type": "markdown",
   "id": "b1c848e2",
   "metadata": {},
   "source": [
    "\n",
    "# Running decision tree classifier model"
   ]
  },
  {
   "cell_type": "code",
   "execution_count": 84,
   "id": "475e7d49",
   "metadata": {},
   "outputs": [],
   "source": [
    "#the max_depth value taken here is from trial and error within a range of 1-10\n",
    "dt_clf = DecisionTreeClassifier(max_depth = 2)\n",
    "dt_clf.fit(x_train,y_train)\n",
    "y_pred = dt_clf.predict(x_test)"
   ]
  },
  {
   "cell_type": "code",
   "execution_count": 85,
   "id": "45ae0aef",
   "metadata": {},
   "outputs": [
    {
     "name": "stdout",
     "output_type": "stream",
     "text": [
      "[[0 1]\n",
      " [0 0]\n",
      " [0 0]\n",
      " ...\n",
      " [0 0]\n",
      " [0 0]\n",
      " [0 1]]\n"
     ]
    }
   ],
   "source": [
    "#comparing the prediction results with the actual result of y_test\n",
    "print(np.concatenate((y_pred.reshape(len(y_pred),1), y_test.reshape(len(y_test),1)),1))"
   ]
  },
  {
   "cell_type": "markdown",
   "id": "97293e58",
   "metadata": {},
   "source": [
    "Printing the confusion matrix and accuracy score to check the model performance"
   ]
  },
  {
   "cell_type": "code",
   "execution_count": 86,
   "id": "561bccef",
   "metadata": {},
   "outputs": [
    {
     "name": "stdout",
     "output_type": "stream",
     "text": [
      "<---------confusion matrix of decision tree---------->\n",
      "[[1613  303]\n",
      " [   0    0]]\n",
      "\n",
      "\n",
      "<---------accuracy score of decision tree---------->\n",
      "0.8418580375782881\n"
     ]
    }
   ],
   "source": [
    "cm = confusion_matrix(y_pred , y_test)\n",
    "print('<---------confusion matrix of decision tree---------->')\n",
    "print(cm)\n",
    "print('\\n')\n",
    "print('<---------accuracy score of decision tree---------->')\n",
    "acc = accuracy_score(y_pred , y_test)\n",
    "print(acc)"
   ]
  },
  {
   "cell_type": "markdown",
   "id": "c11c2717",
   "metadata": {},
   "source": [
    "here we see that decision tree model performed well giving us an accuracy score of 84!"
   ]
  },
  {
   "cell_type": "markdown",
   "id": "f4ae57f9",
   "metadata": {},
   "source": [
    "# Using Random forest classification model"
   ]
  },
  {
   "cell_type": "code",
   "execution_count": 93,
   "id": "c3350e2b",
   "metadata": {},
   "outputs": [
    {
     "name": "stdout",
     "output_type": "stream",
     "text": [
      "[[0 1]\n",
      " [0 0]\n",
      " [0 0]\n",
      " ...\n",
      " [0 0]\n",
      " [0 0]\n",
      " [0 1]]\n"
     ]
    }
   ],
   "source": [
    "#the n_estimators value taken here is based on my previous project experience!\n",
    "\n",
    "rfc = RandomForestClassifier(n_estimators = 600)\n",
    "rfc.fit(x_train , y_train)\n",
    "\n",
    "y_pred = rfc.predict(x_test)\n",
    "\n",
    "print(np.concatenate((y_pred.reshape(len(y_pred),1),y_test.reshape(len(y_test),1)),1))\n"
   ]
  },
  {
   "cell_type": "code",
   "execution_count": 94,
   "id": "1f71b29e",
   "metadata": {},
   "outputs": [
    {
     "name": "stdout",
     "output_type": "stream",
     "text": [
      "<----------Confusion matrix for random forest classifier---------->\n",
      "[[1598  295]\n",
      " [  15    8]]\n",
      "\n",
      "\n",
      "<----------accuracy score of random forest classifier---------->\n",
      "None\n",
      "0.8382045929018789\n"
     ]
    }
   ],
   "source": [
    "print(\"<----------Confusion matrix for random forest classifier---------->\")\n",
    "cm = confusion_matrix(y_pred,y_test)\n",
    "print(cm)\n",
    "print('\\n')\n",
    "print(print(\"<----------accuracy score of random forest classifier---------->\"))\n",
    "acc = accuracy_score(y_pred , y_test)\n",
    "print(acc)"
   ]
  },
  {
   "cell_type": "markdown",
   "id": "4e3a3dee",
   "metadata": {},
   "source": [
    "Therefore ,  based on the accuracy scores of both the models we see that decision tree has performed much better and hence we should go with\n",
    "the decision tree classifier model for further predictions."
   ]
  },
  {
   "cell_type": "code",
   "execution_count": null,
   "id": "bcd5ea1d",
   "metadata": {},
   "outputs": [],
   "source": []
  }
 ],
 "metadata": {
  "kernelspec": {
   "display_name": "Python 3 (ipykernel)",
   "language": "python",
   "name": "python3"
  },
  "language_info": {
   "codemirror_mode": {
    "name": "ipython",
    "version": 3
   },
   "file_extension": ".py",
   "mimetype": "text/x-python",
   "name": "python",
   "nbconvert_exporter": "python",
   "pygments_lexer": "ipython3",
   "version": "3.9.12"
  }
 },
 "nbformat": 4,
 "nbformat_minor": 5
}
